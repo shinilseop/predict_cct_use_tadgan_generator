{
 "cells": [
  {
   "cell_type": "code",
   "execution_count": null,
   "id": "642f24cf-6fcb-49d2-975f-85a26b964298",
   "metadata": {},
   "outputs": [],
   "source": [
    "asdas"
   ]
  }
 ],
 "metadata": {
  "kernelspec": {
   "display_name": "Python 3 (ipykernel)",
   "language": "python",
   "name": "python3"
  },
  "language_info": {
   "codemirror_mode": {
    "name": "ipython",
    "version": 3
   },
   "file_extension": ".py",
   "mimetype": "text/x-python",
   "name": "python",
   "nbconvert_exporter": "python",
   "pygments_lexer": "ipython3",
   "version": "3.7.11"
  }
 },
 "nbformat": 4,
 "nbformat_minor": 5
}
